{
 "cells": [
  {
   "cell_type": "code",
   "execution_count": 12,
   "id": "88c5535b",
   "metadata": {},
   "outputs": [],
   "source": [
    "import pandas as pd\n",
    "\n",
    "df=pd.read_csv('Threshold_Value_14/overall_performance_threshold_14.csv')\n",
    "\n",
    "magnitude=df['magnitude']\n"
   ]
  },
  {
   "cell_type": "code",
   "execution_count": 18,
   "id": "3d4b3929",
   "metadata": {},
   "outputs": [
    {
     "data": {
      "text/plain": [
       "(1336, 12)"
      ]
     },
     "execution_count": 18,
     "metadata": {},
     "output_type": "execute_result"
    }
   ],
   "source": [
    "df.shape"
   ]
  },
  {
   "cell_type": "code",
   "execution_count": 121,
   "id": "58f0f619",
   "metadata": {},
   "outputs": [],
   "source": [
    "threshold_value=14\n",
    "\n",
    "classification_list=[]\n",
    "\n",
    "for iteration in magnitude:\n",
    "    value=int(iteration)\n",
    "    if value<=threshold_value:\n",
    "        label='gazing'\n",
    "        classification_list.append(label)\n",
    "    else:\n",
    "        label='gazing else where'\n",
    "        classification_list.append(label)"
   ]
  },
  {
   "cell_type": "code",
   "execution_count": 122,
   "id": "4673c315",
   "metadata": {},
   "outputs": [],
   "source": [
    "df['predicted_label_14']=classification_list"
   ]
  },
  {
   "cell_type": "code",
   "execution_count": 123,
   "id": "22992138",
   "metadata": {},
   "outputs": [
    {
     "data": {
      "text/html": [
       "<div>\n",
       "<style scoped>\n",
       "    .dataframe tbody tr th:only-of-type {\n",
       "        vertical-align: middle;\n",
       "    }\n",
       "\n",
       "    .dataframe tbody tr th {\n",
       "        vertical-align: top;\n",
       "    }\n",
       "\n",
       "    .dataframe thead th {\n",
       "        text-align: right;\n",
       "    }\n",
       "</style>\n",
       "<table border=\"1\" class=\"dataframe\">\n",
       "  <thead>\n",
       "    <tr style=\"text-align: right;\">\n",
       "      <th></th>\n",
       "      <th>Unnamed: 0</th>\n",
       "      <th>file_name</th>\n",
       "      <th>pitch</th>\n",
       "      <th>roll</th>\n",
       "      <th>yaw</th>\n",
       "      <th>eye_pitch</th>\n",
       "      <th>eye_yaw</th>\n",
       "      <th>magnitude</th>\n",
       "      <th>label</th>\n",
       "      <th>predicted_label</th>\n",
       "      <th>...</th>\n",
       "      <th>predicted_label_15</th>\n",
       "      <th>predicted_label_16</th>\n",
       "      <th>predicted_label_12</th>\n",
       "      <th>predicted_label_11</th>\n",
       "      <th>predicted_label_10</th>\n",
       "      <th>predicted_label_17</th>\n",
       "      <th>predicted_label_18</th>\n",
       "      <th>predicted_label_9</th>\n",
       "      <th>predicted_label_8</th>\n",
       "      <th>predicted_label_14</th>\n",
       "    </tr>\n",
       "  </thead>\n",
       "  <tbody>\n",
       "    <tr>\n",
       "      <th>0</th>\n",
       "      <td>0</td>\n",
       "      <td>0.jpg</td>\n",
       "      <td>0.053992</td>\n",
       "      <td>-0.998096</td>\n",
       "      <td>-3.131119</td>\n",
       "      <td>-11.595399</td>\n",
       "      <td>1.176419</td>\n",
       "      <td>6</td>\n",
       "      <td>head_straight_eye_straight</td>\n",
       "      <td>gazing</td>\n",
       "      <td>...</td>\n",
       "      <td>gazing</td>\n",
       "      <td>gazing</td>\n",
       "      <td>gazing</td>\n",
       "      <td>gazing</td>\n",
       "      <td>gazing</td>\n",
       "      <td>gazing</td>\n",
       "      <td>gazing</td>\n",
       "      <td>gazing</td>\n",
       "      <td>gazing</td>\n",
       "      <td>gazing</td>\n",
       "    </tr>\n",
       "    <tr>\n",
       "      <th>1</th>\n",
       "      <td>1</td>\n",
       "      <td>1.jpg</td>\n",
       "      <td>0.199837</td>\n",
       "      <td>-0.842060</td>\n",
       "      <td>-3.643689</td>\n",
       "      <td>-6.869514</td>\n",
       "      <td>6.450513</td>\n",
       "      <td>5</td>\n",
       "      <td>head_straight_eye_straight</td>\n",
       "      <td>gazing</td>\n",
       "      <td>...</td>\n",
       "      <td>gazing</td>\n",
       "      <td>gazing</td>\n",
       "      <td>gazing</td>\n",
       "      <td>gazing</td>\n",
       "      <td>gazing</td>\n",
       "      <td>gazing</td>\n",
       "      <td>gazing</td>\n",
       "      <td>gazing</td>\n",
       "      <td>gazing</td>\n",
       "      <td>gazing</td>\n",
       "    </tr>\n",
       "    <tr>\n",
       "      <th>2</th>\n",
       "      <td>2</td>\n",
       "      <td>2.jpg</td>\n",
       "      <td>0.199837</td>\n",
       "      <td>-0.842060</td>\n",
       "      <td>-3.643689</td>\n",
       "      <td>-6.869514</td>\n",
       "      <td>6.450513</td>\n",
       "      <td>5</td>\n",
       "      <td>head_straight_eye_straight</td>\n",
       "      <td>gazing</td>\n",
       "      <td>...</td>\n",
       "      <td>gazing</td>\n",
       "      <td>gazing</td>\n",
       "      <td>gazing</td>\n",
       "      <td>gazing</td>\n",
       "      <td>gazing</td>\n",
       "      <td>gazing</td>\n",
       "      <td>gazing</td>\n",
       "      <td>gazing</td>\n",
       "      <td>gazing</td>\n",
       "      <td>gazing</td>\n",
       "    </tr>\n",
       "    <tr>\n",
       "      <th>3</th>\n",
       "      <td>3</td>\n",
       "      <td>3.jpg</td>\n",
       "      <td>0.036036</td>\n",
       "      <td>-0.710877</td>\n",
       "      <td>-3.018157</td>\n",
       "      <td>-8.081615</td>\n",
       "      <td>5.993821</td>\n",
       "      <td>6</td>\n",
       "      <td>head_straight_eye_straight</td>\n",
       "      <td>gazing</td>\n",
       "      <td>...</td>\n",
       "      <td>gazing</td>\n",
       "      <td>gazing</td>\n",
       "      <td>gazing</td>\n",
       "      <td>gazing</td>\n",
       "      <td>gazing</td>\n",
       "      <td>gazing</td>\n",
       "      <td>gazing</td>\n",
       "      <td>gazing</td>\n",
       "      <td>gazing</td>\n",
       "      <td>gazing</td>\n",
       "    </tr>\n",
       "    <tr>\n",
       "      <th>4</th>\n",
       "      <td>4</td>\n",
       "      <td>4.jpg</td>\n",
       "      <td>0.036036</td>\n",
       "      <td>-0.710877</td>\n",
       "      <td>-3.018157</td>\n",
       "      <td>-8.081615</td>\n",
       "      <td>5.993821</td>\n",
       "      <td>6</td>\n",
       "      <td>head_straight_eye_straight</td>\n",
       "      <td>gazing</td>\n",
       "      <td>...</td>\n",
       "      <td>gazing</td>\n",
       "      <td>gazing</td>\n",
       "      <td>gazing</td>\n",
       "      <td>gazing</td>\n",
       "      <td>gazing</td>\n",
       "      <td>gazing</td>\n",
       "      <td>gazing</td>\n",
       "      <td>gazing</td>\n",
       "      <td>gazing</td>\n",
       "      <td>gazing</td>\n",
       "    </tr>\n",
       "  </tbody>\n",
       "</table>\n",
       "<p>5 rows × 22 columns</p>\n",
       "</div>"
      ],
      "text/plain": [
       "   Unnamed: 0 file_name     pitch      roll       yaw  eye_pitch   eye_yaw  \\\n",
       "0           0     0.jpg  0.053992 -0.998096 -3.131119 -11.595399  1.176419   \n",
       "1           1     1.jpg  0.199837 -0.842060 -3.643689  -6.869514  6.450513   \n",
       "2           2     2.jpg  0.199837 -0.842060 -3.643689  -6.869514  6.450513   \n",
       "3           3     3.jpg  0.036036 -0.710877 -3.018157  -8.081615  5.993821   \n",
       "4           4     4.jpg  0.036036 -0.710877 -3.018157  -8.081615  5.993821   \n",
       "\n",
       "   magnitude                       label predicted_label  ...  \\\n",
       "0          6  head_straight_eye_straight          gazing  ...   \n",
       "1          5  head_straight_eye_straight          gazing  ...   \n",
       "2          5  head_straight_eye_straight          gazing  ...   \n",
       "3          6  head_straight_eye_straight          gazing  ...   \n",
       "4          6  head_straight_eye_straight          gazing  ...   \n",
       "\n",
       "  predicted_label_15 predicted_label_16 predicted_label_12 predicted_label_11  \\\n",
       "0             gazing             gazing             gazing             gazing   \n",
       "1             gazing             gazing             gazing             gazing   \n",
       "2             gazing             gazing             gazing             gazing   \n",
       "3             gazing             gazing             gazing             gazing   \n",
       "4             gazing             gazing             gazing             gazing   \n",
       "\n",
       "  predicted_label_10 predicted_label_17 predicted_label_18 predicted_label_9  \\\n",
       "0             gazing             gazing             gazing            gazing   \n",
       "1             gazing             gazing             gazing            gazing   \n",
       "2             gazing             gazing             gazing            gazing   \n",
       "3             gazing             gazing             gazing            gazing   \n",
       "4             gazing             gazing             gazing            gazing   \n",
       "\n",
       "  predicted_label_8 predicted_label_14  \n",
       "0            gazing             gazing  \n",
       "1            gazing             gazing  \n",
       "2            gazing             gazing  \n",
       "3            gazing             gazing  \n",
       "4            gazing             gazing  \n",
       "\n",
       "[5 rows x 22 columns]"
      ]
     },
     "execution_count": 123,
     "metadata": {},
     "output_type": "execute_result"
    }
   ],
   "source": [
    "df.head()"
   ]
  },
  {
   "cell_type": "code",
   "execution_count": 49,
   "id": "789a9415",
   "metadata": {},
   "outputs": [],
   "source": [
    "df.to_csv('overall_performance.csv',index=True,header=True)"
   ]
  },
  {
   "cell_type": "code",
   "execution_count": 124,
   "id": "ec546eb5",
   "metadata": {},
   "outputs": [
    {
     "data": {
      "text/plain": [
       "Index(['Unnamed: 0', 'file_name', 'pitch', 'roll', 'yaw', 'eye_pitch',\n",
       "       'eye_yaw', 'magnitude', 'label', 'predicted_label', 'actual_label',\n",
       "       'predicted_label_13', 'predicted_label_15', 'predicted_label_16',\n",
       "       'predicted_label_12', 'predicted_label_11', 'predicted_label_10',\n",
       "       'predicted_label_17', 'predicted_label_18', 'predicted_label_9',\n",
       "       'predicted_label_8', 'predicted_label_14'],\n",
       "      dtype='object')"
      ]
     },
     "execution_count": 124,
     "metadata": {},
     "output_type": "execute_result"
    }
   ],
   "source": [
    "df.columns"
   ]
  },
  {
   "cell_type": "code",
   "execution_count": 125,
   "id": "0ff8627a",
   "metadata": {},
   "outputs": [],
   "source": [
    "from sklearn.metrics import classification_report\n",
    "from sklearn.metrics import confusion_matrix\n",
    "\n",
    "actual_label=df['actual_label']\n",
    "predicted_label=df['predicted_label_14']"
   ]
  },
  {
   "cell_type": "code",
   "execution_count": 126,
   "id": "0b2bc4f2",
   "metadata": {},
   "outputs": [
    {
     "name": "stdout",
     "output_type": "stream",
     "text": [
      "                   precision    recall  f1-score   support\n",
      "\n",
      "           gazing       0.50      0.98      0.67       275\n",
      "gazing else where       0.99      0.75      0.85      1061\n",
      "\n",
      "         accuracy                           0.80      1336\n",
      "        macro avg       0.75      0.86      0.76      1336\n",
      "     weighted avg       0.89      0.80      0.82      1336\n",
      "\n"
     ]
    }
   ],
   "source": [
    "print(classification_report(actual_label, predicted_label))"
   ]
  },
  {
   "cell_type": "code",
   "execution_count": 128,
   "id": "056a9e69",
   "metadata": {},
   "outputs": [
    {
     "name": "stdout",
     "output_type": "stream",
     "text": [
      "--------------------------------------------------\n",
      "Your TP Value:---> 796\n",
      "Your TN Value:---> 269\n",
      "Your FP Value:---> 6\n",
      "Your FN Value:---> 265\n",
      "--------------------------------------------------\n",
      "--------------------------------------------------\n",
      "Your accuracy:--> 0.7971556886227545\n",
      "Your precision:--> 0.9925187032418953\n",
      "Your recall:--> 0.7502356267672008\n",
      "Your f1_score:--> 0.8545356951154053\n",
      "--------------------------------------------------\n"
     ]
    }
   ],
   "source": [
    "labels=list(df['actual_label'].unique())\n",
    "cm=confusion_matrix(actual_label, predicted_label,labels=labels) \n",
    "\n",
    "# Notes\n",
    "# [0,0]--> TN \n",
    "# [1,1]--> TP \n",
    "# [1,0] --> FN,  \n",
    "# [0,1] --> FP\n",
    "\n",
    "TP=cm[1][1]\n",
    "TN=cm[0][0]\n",
    "FP=cm[0][1]\n",
    "FN=cm[1][0]\n",
    "\n",
    "print('-----'*10)\n",
    "print('Your TP Value:--->',TP)\n",
    "print('Your TN Value:--->',TN)\n",
    "print('Your FP Value:--->',FP)\n",
    "print('Your FN Value:--->',FN)\n",
    "print('-----'*10)\n",
    "\n",
    "accuracy=(TP+TN)/(TP+FP+TN+FN)\n",
    "precision=(TP)/(TP+FP)\n",
    "recall=(TP)/(TP+FN)\n",
    "f1_score=(2)* (precision*recall)/(precision+recall)\n",
    "\n",
    "print('-----'*10)\n",
    "print('Your accuracy:-->',accuracy)\n",
    "print('Your precision:-->',precision)\n",
    "print('Your recall:-->',recall)\n",
    "print('Your f1_score:-->',f1_score)\n",
    "print('-----'*10)"
   ]
  },
  {
   "cell_type": "code",
   "execution_count": 64,
   "id": "6a3e8e54",
   "metadata": {},
   "outputs": [],
   "source": [
    "\n",
    "from sklearn.metrics import confusion_matrix, ConfusionMatrixDisplay\n",
    "\n",
    "disp = ConfusionMatrixDisplay(confusion_matrix=cm,display_labels=labels)"
   ]
  },
  {
   "cell_type": "code",
   "execution_count": 65,
   "id": "9d4284d4",
   "metadata": {},
   "outputs": [
    {
     "data": {
      "text/plain": [
       "<sklearn.metrics._plot.confusion_matrix.ConfusionMatrixDisplay at 0x21ab3a3ad90>"
      ]
     },
     "execution_count": 65,
     "metadata": {},
     "output_type": "execute_result"
    },
    {
     "data": {
      "image/png": "[encoded data removed]",
      "text/plain": [
       "<Figure size 432x288 with 2 Axes>"
      ]
     },
     "metadata": {
      "needs_background": "light"
     },
     "output_type": "display_data"
    }
   ],
   "source": [
    "disp.plot()"
   ]
  },
  {
   "cell_type": "code",
   "execution_count": 50,
   "id": "5f6e014b",
   "metadata": {},
   "outputs": [
    {
     "data": {
      "text/plain": [
       "Index(['Unnamed: 0', 'file_name', 'pitch', 'roll', 'yaw', 'eye_pitch',\n",
       "       'eye_yaw', 'magnitude', 'label', 'predicted_label', 'actual_label',\n",
       "       'predicted_label_13', 'predicted_label_15', 'predicted_label_16',\n",
       "       'predicted_label_12', 'predicted_label_11', 'predicted_label_10',\n",
       "       'predicted_label_17', 'predicted_label_18', 'predicted_label_9',\n",
       "       'predicted_label_8'],\n",
       "      dtype='object')"
      ]
     },
     "execution_count": 50,
     "metadata": {},
     "output_type": "execute_result"
    }
   ],
   "source": [
    "df.columns"
   ]
  },
  {
   "cell_type": "code",
   "execution_count": null,
   "id": "0afb4d86",
   "metadata": {},
   "outputs": [],
   "source": [
    "# Classification"
   ]
  },
  {
   "cell_type": "code",
   "execution_count": 6,
   "id": "61efec52",
   "metadata": {},
   "outputs": [],
   "source": [
    "# Import necessary modules\n",
    "from sklearn.neighbors import KNeighborsClassifier\n",
    "from sklearn.model_selection import train_test_split\n",
    "import pandas as pd\n",
    "\n",
    "df=pd.read_csv('frame_by_frame_dataset.csv')\n",
    "df_copy=df.copy()\n",
    "\n",
    "\n",
    "#Create x and y variable\n",
    "x = df_copy.drop(columns=['actual_label'])\n",
    "y = df_copy['actual_label']\n",
    "\n"
   ]
  },
  {
   "cell_type": "code",
   "execution_count": 25,
   "id": "8e747f18",
   "metadata": {},
   "outputs": [
    {
     "name": "stdout",
     "output_type": "stream",
     "text": [
      "['gazing_else_where']\n"
     ]
    },
    {
     "name": "stderr",
     "output_type": "stream",
     "text": [
      "C:\\Program Files\\Anaconda\\lib\\site-packages\\sklearn\\base.py:450: UserWarning: X does not have valid feature names, but KNeighborsClassifier was fitted with feature names\n",
      "  warnings.warn(\n",
      "C:\\Program Files\\Anaconda\\lib\\site-packages\\sklearn\\base.py:450: UserWarning: X does not have valid feature names, but KNeighborsClassifier was fitted with feature names\n",
      "  warnings.warn(\n"
     ]
    }
   ],
   "source": [
    "from sklearn.metrics import confusion_matrix\n",
    "import numpy as np\n",
    "import pickle\n",
    "\n",
    "\n",
    "# Split into training and test set\n",
    "X_train, X_test, y_train, y_test = train_test_split(\n",
    "\t\t\tx, y, test_size = 0.2, random_state=42)\n",
    "\n",
    "knn = KNeighborsClassifier(n_neighbors=7)\n",
    "\n",
    "knn.fit(X_train, y_train)\n",
    "\n",
    "# Predict on dataset which model has not seen before\n",
    "predicted_output=(knn.predict(X_test))\n",
    "\n",
    "single_prediction=np.array([[-2.11,1.20,1.55,10.98,19.09]])\n",
    "\n",
    "predicted_output=(knn.predict(single_prediction))\n",
    "\n",
    "# save the model\n",
    "filename = 'linear_model.sav'\n",
    "pickle.dump(knn, open(filename, 'wb'))\n",
    "\n",
    "load_model = pickle.load(open(filename, 'rb'))\n",
    "  \n",
    "y_pred = load_model.predict(single_prediction)\n",
    "print(y_pred)"
   ]
  },
  {
   "cell_type": "code",
   "execution_count": 26,
   "id": "6b1fd244",
   "metadata": {},
   "outputs": [
    {
     "data": {
      "text/html": [
       "<div>\n",
       "<style scoped>\n",
       "    .dataframe tbody tr th:only-of-type {\n",
       "        vertical-align: middle;\n",
       "    }\n",
       "\n",
       "    .dataframe tbody tr th {\n",
       "        vertical-align: top;\n",
       "    }\n",
       "\n",
       "    .dataframe thead th {\n",
       "        text-align: right;\n",
       "    }\n",
       "</style>\n",
       "<table border=\"1\" class=\"dataframe\">\n",
       "  <thead>\n",
       "    <tr style=\"text-align: right;\">\n",
       "      <th></th>\n",
       "      <th>pitch</th>\n",
       "      <th>roll</th>\n",
       "      <th>yaw</th>\n",
       "      <th>eye_pitch</th>\n",
       "      <th>eye_yaw</th>\n",
       "    </tr>\n",
       "  </thead>\n",
       "  <tbody>\n",
       "    <tr>\n",
       "      <th>486</th>\n",
       "      <td>2.937847</td>\n",
       "      <td>-3.299211</td>\n",
       "      <td>12.442754</td>\n",
       "      <td>-10.055530</td>\n",
       "      <td>29.227477</td>\n",
       "    </tr>\n",
       "    <tr>\n",
       "      <th>73</th>\n",
       "      <td>2.213452</td>\n",
       "      <td>-6.074842</td>\n",
       "      <td>32.815662</td>\n",
       "      <td>-7.050963</td>\n",
       "      <td>-31.097628</td>\n",
       "    </tr>\n",
       "    <tr>\n",
       "      <th>349</th>\n",
       "      <td>5.266354</td>\n",
       "      <td>-2.294877</td>\n",
       "      <td>0.952565</td>\n",
       "      <td>-6.377545</td>\n",
       "      <td>19.228224</td>\n",
       "    </tr>\n",
       "    <tr>\n",
       "      <th>86</th>\n",
       "      <td>2.676622</td>\n",
       "      <td>-5.855970</td>\n",
       "      <td>33.260006</td>\n",
       "      <td>-7.498957</td>\n",
       "      <td>-32.814051</td>\n",
       "    </tr>\n",
       "    <tr>\n",
       "      <th>457</th>\n",
       "      <td>4.791079</td>\n",
       "      <td>-0.895088</td>\n",
       "      <td>-17.439029</td>\n",
       "      <td>9.700828</td>\n",
       "      <td>6.252803</td>\n",
       "    </tr>\n",
       "    <tr>\n",
       "      <th>...</th>\n",
       "      <td>...</td>\n",
       "      <td>...</td>\n",
       "      <td>...</td>\n",
       "      <td>...</td>\n",
       "      <td>...</td>\n",
       "    </tr>\n",
       "    <tr>\n",
       "      <th>93</th>\n",
       "      <td>4.535101</td>\n",
       "      <td>5.148170</td>\n",
       "      <td>-32.919361</td>\n",
       "      <td>-11.489904</td>\n",
       "      <td>12.373679</td>\n",
       "    </tr>\n",
       "    <tr>\n",
       "      <th>325</th>\n",
       "      <td>3.349794</td>\n",
       "      <td>-2.975822</td>\n",
       "      <td>-3.600070</td>\n",
       "      <td>15.602733</td>\n",
       "      <td>-13.589734</td>\n",
       "    </tr>\n",
       "    <tr>\n",
       "      <th>180</th>\n",
       "      <td>-14.602468</td>\n",
       "      <td>2.069345</td>\n",
       "      <td>0.001391</td>\n",
       "      <td>-10.055247</td>\n",
       "      <td>5.331565</td>\n",
       "    </tr>\n",
       "    <tr>\n",
       "      <th>331</th>\n",
       "      <td>3.960473</td>\n",
       "      <td>-2.899172</td>\n",
       "      <td>-3.246609</td>\n",
       "      <td>3.634589</td>\n",
       "      <td>20.054878</td>\n",
       "    </tr>\n",
       "    <tr>\n",
       "      <th>538</th>\n",
       "      <td>5.094260</td>\n",
       "      <td>-5.347655</td>\n",
       "      <td>12.982128</td>\n",
       "      <td>4.767824</td>\n",
       "      <td>7.917996</td>\n",
       "    </tr>\n",
       "  </tbody>\n",
       "</table>\n",
       "<p>108 rows × 5 columns</p>\n",
       "</div>"
      ],
      "text/plain": [
       "         pitch      roll        yaw  eye_pitch    eye_yaw\n",
       "486   2.937847 -3.299211  12.442754 -10.055530  29.227477\n",
       "73    2.213452 -6.074842  32.815662  -7.050963 -31.097628\n",
       "349   5.266354 -2.294877   0.952565  -6.377545  19.228224\n",
       "86    2.676622 -5.855970  33.260006  -7.498957 -32.814051\n",
       "457   4.791079 -0.895088 -17.439029   9.700828   6.252803\n",
       "..         ...       ...        ...        ...        ...\n",
       "93    4.535101  5.148170 -32.919361 -11.489904  12.373679\n",
       "325   3.349794 -2.975822  -3.600070  15.602733 -13.589734\n",
       "180 -14.602468  2.069345   0.001391 -10.055247   5.331565\n",
       "331   3.960473 -2.899172  -3.246609   3.634589  20.054878\n",
       "538   5.094260 -5.347655  12.982128   4.767824   7.917996\n",
       "\n",
       "[108 rows x 5 columns]"
      ]
     },
     "execution_count": 26,
     "metadata": {},
     "output_type": "execute_result"
    }
   ],
   "source": [
    "X_test"
   ]
  },
  {
   "cell_type": "code",
   "execution_count": 23,
   "id": "94cccb19",
   "metadata": {},
   "outputs": [
    {
     "data": {
      "text/plain": [
       "array(['gazing_else_where'], dtype=object)"
      ]
     },
     "execution_count": 23,
     "metadata": {},
     "output_type": "execute_result"
    }
   ],
   "source": [
    "predicted_output"
   ]
  },
  {
   "cell_type": "code",
   "execution_count": 14,
   "id": "24d4cd0a",
   "metadata": {},
   "outputs": [],
   "source": [
    "# cm=confusion_matrix(y_test, predicted_output) \n",
    "\n",
    "# TP=cm[1][1]\n",
    "# TN=cm[0][0]\n",
    "# FP=cm[0][1]\n",
    "# FN=cm[1][0]\n",
    "\n",
    "# print('-----'*10)\n",
    "# print('Your TP Value:--->',TP)\n",
    "# print('Your TN Value:--->',TN)\n",
    "# print('Your FP Value:--->',FP)\n",
    "# print('Your FN Value:--->',FN)\n",
    "# print('-----'*10)\n",
    "\n",
    "# accuracy=(TP+TN)/(TP+FP+TN+FN)\n",
    "# precision=(TP)/(TP+FP)\n",
    "# recall=(TP)/(TP+FN)\n",
    "# f1_score=(2)* (precision*recall)/(precision+recall)\n",
    "\n",
    "# print('-----'*10)\n",
    "# print('Your accuracy:-->',accuracy)\n",
    "# print('Your precision:-->',precision)\n",
    "# print('Your recall:-->',recall)\n",
    "# print('Your f1_score:-->',f1_score)\n",
    "# print('-----'*10)"
   ]
  },
  {
   "cell_type": "code",
   "execution_count": null,
   "id": "340273a7",
   "metadata": {},
   "outputs": [],
   "source": []
  }
 ],
 "metadata": {
  "kernelspec": {
   "display_name": "Python 3 (ipykernel)",
   "language": "python",
   "name": "python3"
  },
  "language_info": {
   "codemirror_mode": {
    "name": "ipython",
    "version": 3
   },
   "file_extension": ".py",
   "mimetype": "text/x-python",
   "name": "python",
   "nbconvert_exporter": "python",
   "pygments_lexer": "ipython3",
   "version": "3.9.12"
  }
 },
 "nbformat": 4,
 "nbformat_minor": 5
}
